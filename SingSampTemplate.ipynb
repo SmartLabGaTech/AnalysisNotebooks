{
 "cells": [
  {
   "cell_type": "markdown",
   "metadata": {},
   "source": [
    "# Set Up"
   ]
  },
  {
   "cell_type": "code",
   "execution_count": null,
   "metadata": {
    "ExecuteTime": {
     "end_time": "2019-01-18T19:57:23.730742Z",
     "start_time": "2019-01-18T19:57:23.710751Z"
    },
    "collapsed": true,
    "hide_input": false
   },
   "outputs": [],
   "source": [
    "%matplotlib notebook\n",
    "from IPython.core.display import display, HTML\n",
    "display(HTML(\"<style>.container { width:100% !important; }</style>\"))\n",
    "\n",
    "import bepy as be\n",
    "import numpy as np\n",
    "import pandas as pd\n",
    "from sklearn.decomposition import PCA, NMF, DictionaryLearning\n",
    "import matplotlib.pyplot as plt\n",
    "import seaborn as sns\n",
    "\n",
    "sset = be.SampleSet()"
   ]
  },
  {
   "cell_type": "markdown",
   "metadata": {
    "ExecuteTime": {
     "end_time": "2019-01-18T19:58:11.256944Z",
     "start_time": "2019-01-18T19:58:11.252967Z"
    },
    "collapsed": true
   },
   "source": [
    "# Load Data"
   ]
  },
  {
   "cell_type": "code",
   "execution_count": null,
   "metadata": {
    "ExecuteTime": {
     "end_time": "2019-01-18T20:00:48.696361Z",
     "start_time": "2019-01-18T20:00:27.085701Z"
    },
    "collapsed": true,
    "scrolled": true
   },
   "outputs": [],
   "source": [
    "gridSize = 30\n",
    "sampName = 'PT27'\n",
    "path = 'D:\\\\Data\\\\Lee\\\\pt27_007\\\\01-15-2019\\\\'\n",
    "\n",
    "samp = be.Sample(path, gridSize)\n",
    "\n",
    "sset.addsample(samp, sampName, gridSize)"
   ]
  },
  {
   "cell_type": "markdown",
   "metadata": {},
   "source": [
    "# Basic Plots"
   ]
  },
  {
   "cell_type": "markdown",
   "metadata": {},
   "source": [
    "## BE Scan Plots"
   ]
  },
  {
   "cell_type": "code",
   "execution_count": null,
   "metadata": {
    "ExecuteTime": {
     "end_time": "2019-01-18T20:02:23.766089Z",
     "start_time": "2019-01-18T20:02:23.412238Z"
    },
    "collapsed": true
   },
   "outputs": [],
   "source": [
    "lims = np.array([[0,100,0.325,0],[800,270,0.375,300]])\n",
    "samp._gridmeasurements['Vert'].plot(lims=lims, plotgroup=1)"
   ]
  },
  {
   "cell_type": "code",
   "execution_count": null,
   "metadata": {
    "ExecuteTime": {
     "end_time": "2019-01-17T21:33:43.445350Z",
     "start_time": "2019-01-17T21:33:43.091242Z"
    },
    "collapsed": true
   },
   "outputs": [],
   "source": [
    "lims = np.array([[0,0,0.745,0],[30,300,0.800,1200]])\n",
    "samp._linemeasurements['Lat'].plot(lims=lims, plotgroup=1)"
   ]
  },
  {
   "cell_type": "markdown",
   "metadata": {},
   "source": [
    "## SSPFM Plot"
   ]
  },
  {
   "cell_type": "code",
   "execution_count": null,
   "metadata": {
    "ExecuteTime": {
     "end_time": "2019-01-18T19:53:21.021521Z",
     "start_time": "2019-01-18T19:53:20.804628Z"
    },
    "collapsed": true
   },
   "outputs": [],
   "source": [
    "samp._gridmeasurements['SSPFM'].plot(pointNum=100)"
   ]
  },
  {
   "cell_type": "markdown",
   "metadata": {},
   "source": [
    "## Relaxation Plot"
   ]
  },
  {
   "cell_type": "code",
   "execution_count": null,
   "metadata": {
    "ExecuteTime": {
     "end_time": "2019-01-17T21:39:31.331986Z",
     "start_time": "2019-01-17T21:39:31.110742Z"
    },
    "collapsed": true
   },
   "outputs": [],
   "source": [
    "samp._gridmeasurements['Relax'].plot(pointNum=None, InOut=1,insert=np.inf)"
   ]
  },
  {
   "cell_type": "code",
   "execution_count": null,
   "metadata": {
    "ExecuteTime": {
     "end_time": "2018-11-02T18:32:34.586374Z",
     "start_time": "2018-11-02T18:32:34.580374Z"
    },
    "collapsed": true
   },
   "outputs": [],
   "source": [
    "mask = test.columns.get_level_values(1) == 0.0\n",
    "olphase = test.T[mask].T\n",
    "xax = olphase.columns.get_level_values(3)"
   ]
  },
  {
   "cell_type": "code",
   "execution_count": null,
   "metadata": {
    "ExecuteTime": {
     "end_time": "2018-11-02T18:32:37.808262Z",
     "start_time": "2018-11-02T18:32:37.803264Z"
    },
    "collapsed": true
   },
   "outputs": [],
   "source": [
    "mph = olphase.mean()"
   ]
  },
  {
   "cell_type": "code",
   "execution_count": null,
   "metadata": {
    "ExecuteTime": {
     "end_time": "2018-11-02T18:32:38.992696Z",
     "start_time": "2018-11-02T18:32:38.987700Z"
    },
    "collapsed": true
   },
   "outputs": [],
   "source": [
    "phase = olphase.loc[75,:].values"
   ]
  },
  {
   "cell_type": "code",
   "execution_count": null,
   "metadata": {
    "ExecuteTime": {
     "end_time": "2018-11-02T18:40:43.929625Z",
     "start_time": "2018-11-02T18:40:43.924652Z"
    },
    "collapsed": true
   },
   "outputs": [],
   "source": [
    "offset = np.pi/2 - (np.mean(mph)+np.std(mph))"
   ]
  },
  {
   "cell_type": "code",
   "execution_count": null,
   "metadata": {
    "ExecuteTime": {
     "end_time": "2018-11-02T18:40:46.424704Z",
     "start_time": "2018-11-02T18:40:46.381724Z"
    },
    "collapsed": true
   },
   "outputs": [],
   "source": [
    "fig = plt.figure()\n",
    "plt.plot(xax,mph+offset)\n",
    "plt.show()"
   ]
  },
  {
   "cell_type": "code",
   "execution_count": null,
   "metadata": {
    "ExecuteTime": {
     "end_time": "2018-11-02T18:33:21.077176Z",
     "start_time": "2018-11-02T18:33:21.036195Z"
    },
    "collapsed": true
   },
   "outputs": [],
   "source": [
    "fig = plt.figure()\n",
    "plt.plot(np.diff(phase))\n",
    "plt.show()"
   ]
  },
  {
   "cell_type": "code",
   "execution_count": null,
   "metadata": {
    "ExecuteTime": {
     "end_time": "2018-11-02T18:01:09.249018Z",
     "start_time": "2018-11-02T18:01:09.229051Z"
    },
    "collapsed": true
   },
   "outputs": [],
   "source": [
    "newPh = np.full(phase.shape,0)\n",
    "\n",
    "add = np.where(np.diff(phase) < -1.8*np.pi)\n",
    "sub = np.where(np.diff(phase) > 1.8*np.pi)\n",
    "good = np.where(np.abs(np.diff(phase))<=1.8*np.pi)\n",
    "\n",
    "newPh[good] = phase[good]\n",
    "newPh[add] = phase[add] + 2*np.pi\n",
    "newPh[sub] = phase[sub] - 2*np.pi\n",
    "\n",
    "#for i in np.where(np.abs(np.diff(phase))>1.8*np.pi)[0]:\n",
    "#    val = np.diff(phase)[i]\n",
    "#    print(val)\n",
    "#    if val > 0:\n",
    "#        newPh[i] = phase[i] - 2*np.pi\n",
    "#    else:\n",
    "#        newPh[i] = phase[i] + 2*np.pi\n",
    "#    print(newPh[i])"
   ]
  },
  {
   "cell_type": "code",
   "execution_count": null,
   "metadata": {
    "ExecuteTime": {
     "end_time": "2018-11-02T17:58:08.925460Z",
     "start_time": "2018-11-02T17:58:08.920442Z"
    },
    "collapsed": true
   },
   "outputs": [],
   "source": [
    "add"
   ]
  },
  {
   "cell_type": "code",
   "execution_count": null,
   "metadata": {
    "ExecuteTime": {
     "end_time": "2018-11-02T18:04:46.529251Z",
     "start_time": "2018-11-02T18:04:46.485271Z"
    },
    "collapsed": true
   },
   "outputs": [],
   "source": [
    "fig = plt.figure()\n",
    "plt.plot(xax,newPh)\n",
    "plt.show()"
   ]
  },
  {
   "cell_type": "code",
   "execution_count": null,
   "metadata": {
    "ExecuteTime": {
     "end_time": "2018-10-22T19:13:48.446271Z",
     "start_time": "2018-10-22T19:13:47.911529Z"
    },
    "collapsed": true
   },
   "outputs": [],
   "source": [
    "samp._gridmeasurements['Relax'].plot(InOut=1.0,insert=np.inf, pointNum=None)"
   ]
  },
  {
   "cell_type": "code",
   "execution_count": null,
   "metadata": {
    "collapsed": true
   },
   "outputs": [],
   "source": [
    "nmfmodel=NMF(n_components=3, tol=1e-6, max_iter=500)\n",
    "maps,comps=sset.fit(nmfmodel, sampstack=[sampName], measstack=['Relax'], varstack=['Amp'])"
   ]
  },
  {
   "cell_type": "code",
   "execution_count": null,
   "metadata": {
    "collapsed": true
   },
   "outputs": [],
   "source": [
    "sset._analysis.plot()"
   ]
  },
  {
   "cell_type": "code",
   "execution_count": null,
   "metadata": {
    "ExecuteTime": {
     "end_time": "2018-12-05T18:57:27.477744Z",
     "start_time": "2018-12-05T18:57:27.306836Z"
    },
    "collapsed": true
   },
   "outputs": [],
   "source": [
    "data = samp._linemeasurements['Scan']._data['Phase'].applymap(lambda x: x-2*np.pi if x>np.pi else x-0)\n",
    "plt.imshow(data,vmin=0,vmax=np.pi,cmap='nipy_spectral')\n",
    "plt.plot\n",
    "plt.colorbar()"
   ]
  },
  {
   "cell_type": "code",
   "execution_count": null,
   "metadata": {
    "ExecuteTime": {
     "end_time": "2018-12-05T18:44:17.530147Z",
     "start_time": "2018-12-05T18:44:17.523150Z"
    },
    "collapsed": true
   },
   "outputs": [],
   "source": [
    "samp._linemeasurements['Scan']._data['Phase'].mean().mean()"
   ]
  },
  {
   "cell_type": "markdown",
   "metadata": {},
   "source": [
    "# Temp FORC"
   ]
  },
  {
   "cell_type": "code",
   "execution_count": null,
   "metadata": {
    "ExecuteTime": {
     "end_time": "2019-01-18T01:17:31.846742Z",
     "start_time": "2019-01-18T01:17:31.747785Z"
    },
    "collapsed": true
   },
   "outputs": [],
   "source": [
    "data = pd.read_csv(path+'FORC\\\\'+'shofit.csv')"
   ]
  },
  {
   "cell_type": "code",
   "execution_count": null,
   "metadata": {
    "ExecuteTime": {
     "end_time": "2019-01-18T01:48:41.848666Z",
     "start_time": "2019-01-18T01:48:41.661744Z"
    },
    "collapsed": true
   },
   "outputs": [],
   "source": [
    "inout = data['InOut'] == 0\n",
    "\n",
    "for i in range(int(data['PlotGroup'].max())):\n",
    "\n",
    "    mask = np.logical_and(inout, data['PlotGroup'] == i)\n",
    "\n",
    "    amp = data['Amp'].values[np.where(mask)]\n",
    "    ph = data['Phase'].values[np.where(mask)]\n",
    "    loop = amp*np.cos(ph)\n",
    "    dc = data['DC'].values[np.where(mask)]\n",
    "    \n",
    "    plt.plot(10*dc, -loop)\n",
    "\n",
    "plt.show()"
   ]
  },
  {
   "cell_type": "code",
   "execution_count": null,
   "metadata": {
    "ExecuteTime": {
     "end_time": "2019-01-18T01:58:07.673313Z",
     "start_time": "2019-01-18T01:58:07.243515Z"
    },
    "collapsed": true
   },
   "outputs": [],
   "source": [
    "inout = data['InOut'] == 0\n",
    "mask = np.logical_and(inout, data['PlotGroup'] == int(data['PlotGroup'].max()))\n",
    "\n",
    "amp = data['Amp'].values[np.where(mask)]\n",
    "ph = data['Phase'].values[np.where(mask)]\n",
    "\n",
    "return_loops = np.full((int(data['PlotGroup'].max()), int(len(amp)/2)),np.nan)\n",
    "\n",
    "plt.figure()\n",
    "\n",
    "for i in range(int(data['PlotGroup'].max())):\n",
    "    \n",
    "    mask = np.logical_and(inout, data['PlotGroup'] == i)\n",
    "\n",
    "    amp = data['Amp'].values[np.where(mask)]\n",
    "    ph = data['Phase'].values[np.where(mask)]\n",
    "    loop = amp*np.cos(ph)\n",
    "    dc = data['DC'].values[np.where(mask)]\n",
    "    \n",
    "    loop = loop[int(len(loop)/2):]\n",
    "    dc = dc[int(len(dc)/2):]\n",
    "    \n",
    "    return_loops[i, (np.arange(0,len(loop)))] = -np.flip(loop,0)\n",
    "    \n",
    "    plt.plot(10*dc, -loop)\n",
    "\n",
    "plt.show()\n",
    "\n",
    "return_loops = np.flip(return_loops,1)\n",
    "\n",
    "plt.figure()\n",
    "\n",
    "for i in range(int(data['PlotGroup'].max())):\n",
    "    plt.plot(return_loops[i,:])\n",
    "    plt.show()"
   ]
  },
  {
   "cell_type": "code",
   "execution_count": null,
   "metadata": {
    "ExecuteTime": {
     "end_time": "2019-01-18T02:07:42.922466Z",
     "start_time": "2019-01-18T02:07:42.809501Z"
    },
    "collapsed": true
   },
   "outputs": [],
   "source": [
    "\n",
    "derivative_horiz = np.full((np.shape(return_loops)[0]-1,np.shape(return_loops)[1]-1), np.nan)\n",
    "\n",
    "for i in range(np.shape(return_loops)[0]-1):\n",
    "    for j in range(np.shape(return_loops)[1]-1):\n",
    "        derivative_horiz[i,j] = (return_loops[i,j-1]+return_loops[i,j+1])/0.378\n",
    "\n",
    "priesach = np.full((np.shape(derivative_horiz)[0]-1,np.shape(derivative_horiz)[1]-1), np.nan)\n",
    "\n",
    "for i in range(np.shape(derivative_horiz)[0]-1):\n",
    "    for j in range(np.shape(derivative_horiz)[1]-1):\n",
    "        priesach[i,j] = (derivative_horiz[i,j-1]+derivative_horiz[i,j+1])/0.378\n",
    "    \n",
    "plt.imshow(priesach,cmap='nipy_spectral')\n",
    "plt.colorbar()\n",
    "plt.show()"
   ]
  }
 ],
 "metadata": {
  "hide_input": false,
  "kernelspec": {
   "display_name": "Python 3",
   "language": "python",
   "name": "python3"
  },
  "language_info": {
   "codemirror_mode": {
    "name": "ipython",
    "version": 3
   },
   "file_extension": ".py",
   "mimetype": "text/x-python",
   "name": "python",
   "nbconvert_exporter": "python",
   "pygments_lexer": "ipython3",
   "version": "3.6.3"
  }
 },
 "nbformat": 4,
 "nbformat_minor": 2
}
