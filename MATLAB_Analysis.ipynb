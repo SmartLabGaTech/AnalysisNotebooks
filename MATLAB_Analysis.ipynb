{
 "cells": [
  {
   "cell_type": "markdown",
   "metadata": {},
   "source": [
    "# Set up"
   ]
  },
  {
   "cell_type": "code",
   "execution_count": 2,
   "metadata": {},
   "outputs": [],
   "source": [
    "%load_ext autoreload\n",
    "%autoreload 2\n",
    "%matplotlib notebook\n",
    "\n",
    "import numpy as np\n",
    "import pandas as pd\n",
    "import matplotlib.pyplot as plt\n",
    "import scipy.io as sio\n",
    "from sklearn.decomposition import NMF, DictionaryLearning, PCA\n",
    "import deepdish as dd"
   ]
  },
  {
   "cell_type": "markdown",
   "metadata": {},
   "source": [
    "# Model"
   ]
  },
  {
   "cell_type": "code",
   "execution_count": 3,
   "metadata": {},
   "outputs": [],
   "source": [
    "#Set up model\n",
    "numComp=2\n",
    "initPro='nndsvda'\n",
    "iterations=10000000\n",
    "tolerance=1e-6\n",
    "variable=\"Amplitude\"\n",
    "dimensons=[50,50]\n",
    "random=0\n",
    "NMFmodel = NMF(n_components=numComp, init=initPro, random_state=random, max_iter=iterations,tol=tolerance)"
   ]
  },
  {
   "cell_type": "markdown",
   "metadata": {},
   "source": [
    "# Load Data"
   ]
  },
  {
   "cell_type": "code",
   "execution_count": 4,
   "metadata": {},
   "outputs": [],
   "source": [
    "#Use this function to convert the old matlab structs to typical python dictionary \n",
    "def matextract(matData,subNames=['Pulse1','Pulse2','Pulse3','Pulse4','Pulse5','Pulse6','Pulse7','Pulse8','Pulse9','Pulse10']):\n",
    "\n",
    "    #Define output dict\n",
    "    outData={}\n",
    "\n",
    "    #For each sample\n",
    "    for sample in matData:\n",
    "\n",
    "        print('Loading: '+sample)\n",
    "\n",
    "        #Further define output\n",
    "        outData[sample]={}\n",
    "\n",
    "        #Extarct data\n",
    "        samp=matData[sample]\n",
    "        ampData=samp.rawData.amp*10**6\n",
    "        phiData=samp.rawData.phi\n",
    "        wData=samp.rawData.w\n",
    "        qData=samp.rawData.Q\n",
    "\n",
    "        #Extract meta data\n",
    "        bounds=samp.Processed.bounds.Data\n",
    "        pulses=samp.Processed.pulses\n",
    "        #timePer=samp.Processed.timePerDiv\n",
    "        #coer=samp.Processed.coercive\n",
    "\n",
    "        numPulses=np.shape(bounds)[0]\n",
    "\n",
    "        #For each sub \n",
    "        for i in range(0,numPulses):\n",
    "\n",
    "            #Further define output\n",
    "            outData[sample][subNames[i]]={}\n",
    "\n",
    "            outData[sample][subNames[i]]['Amplitude']=[]\n",
    "            outData[sample][subNames[i]]['Phase']=[]\n",
    "            outData[sample][subNames[i]]['Resonance']=[]\n",
    "            outData[sample][subNames[i]]['Q']=[]\n",
    "\n",
    "            #Get the bounds for the pulse\n",
    "            a=bounds[i,0]-1\n",
    "            b=bounds[i,1]\n",
    "\n",
    "            if sample != 'pmn_28pt_100':\n",
    "                #Make the time axis\n",
    "                time=np.linspace(0,b-a-1,b-a)\n",
    "            else:\n",
    "                #Have to account for the four missing points in 28pt\n",
    "                timeA=np.linspace(0,15,16)\n",
    "\n",
    "                steps=max(0,b-a-20+4)\n",
    "\n",
    "                timeB=np.linspace(20,b-a-1+4,steps)\n",
    "                time=np.hstack((timeA,timeB))\n",
    "\n",
    "            #Pull out datah for the pulse in question\n",
    "            pulseAmpData=ampData[:,a:b]\n",
    "            pulsePhiData=phiData[:,a:b]\n",
    "            pulseWData=wData[:,a:b]\n",
    "            pulseQData=qData[:,a:b]\n",
    "\n",
    "            outData[sample][subNames[i]]['Amplitude'].append(pulseAmpData)\n",
    "            outData[sample][subNames[i]]['Amplitude']=np.squeeze(outData[sample][subNames[i]]['Amplitude'])\n",
    "\n",
    "            outData[sample][subNames[i]]['Phase'].append(pulsePhiData)\n",
    "            outData[sample][subNames[i]]['Phase']=np.squeeze(outData[sample][subNames[i]]['Phase'])\n",
    "\n",
    "            outData[sample][subNames[i]]['Resonance'].append(pulseWData)\n",
    "            outData[sample][subNames[i]]['Resonance']=np.squeeze(outData[sample][subNames[i]]['Resonance'])\n",
    "\n",
    "            outData[sample][subNames[i]]['Q'].append(pulseQData)\n",
    "            outData[sample][subNames[i]]['Q']=np.squeeze(outData[sample][subNames[i]]['Q'])\n",
    "\n",
    "            outData[sample][subNames[i]]['Time']=time\n",
    "\n",
    "\n",
    "        #Store INFO data\n",
    "        outData[sample]['INFO']={}\n",
    "\n",
    "        outData[sample]['INFO']['Voltages_Applied']=pulses\n",
    "        #outData[sample]['INFO']['TimePerDivision']=timePer\n",
    "        #outData[sample]['INFO']['Coercive_Voltage']=coer\n",
    "\n",
    "    return outData\n"
   ]
  },
  {
   "cell_type": "code",
   "execution_count": 6,
   "metadata": {
    "scrolled": true
   },
   "outputs": [
    {
     "name": "stdout",
     "output_type": "stream",
     "text": [
      "Loading: pmn_02_2017\n",
      "Loading: pmn_36pt_001\n",
      "Loading: pmn_pt_tetra1\n"
     ]
    }
   ],
   "source": [
    "#Import all the data\n",
    "\n",
    "dataDir=\"C:/Users/lgriffin39/Documents/Python Scripts/Data\"\n",
    "\n",
    "pmn_02_2017 = sio.loadmat(\"pmn_02_2017.mat\", squeeze_me=True, struct_as_record=False)[\"pmn_02_2017\"]\n",
    "pmn_03_2017 = sio.loadmat(\"pmn_03_2017.mat\", squeeze_me=True, struct_as_record=False)[\"pmn_03_2017\"]\n",
    "pmn_10pt = sio.loadmat(\"pmn_10pt.mat\", squeeze_me=True, struct_as_record=False)[\"pmn_10pt\"]\n",
    "pmn_28pt_100 = sio.loadmat(\"pmn_28pt_100.mat\", squeeze_me=True, struct_as_record=False)[\"pmn_28pt_100\"]\n",
    "pmn_28pt_111 = sio.loadmat(\"pmn_28pt_111.mat\", squeeze_me=True, struct_as_record=False)[\"pmn_28pt_111\"]\n",
    "pmn_36pt_001 = sio.loadmat(\"pmn_36pt_001.mat\", squeeze_me=True, struct_as_record=False)[\"pmn_36pt_001\"]\n",
    "pmn_36pt_111 = sio.loadmat(\"pmn_36pt_111.mat\", squeeze_me=True, struct_as_record=False)[\"pmn_36pt_111\"]\n",
    "pmn_Otherside = sio.loadmat(\"pmn_Otherside.mat\", squeeze_me=True, struct_as_record=False)[\"pmn_Otherside\"]\n",
    "pmn_pt_tetra1 = sio.loadmat(\"pmn_pt_tetra1.mat\", squeeze_me=True, struct_as_record=False)[\"pmn_pt_tetra1\"]\n",
    "\n",
    "\n",
    "#Define a dictionary of the data to fit\n",
    "allRaw = {\"pmn_02_2017\": pmn_02_2017, \n",
    "                #\"pmn_03_2017\" : pmn_03_2017, \n",
    "                #\"pmn_10pt\" : pmn_10pt, \n",
    "                #\"pmn_28pt_100\" : pmn_28pt_100, \n",
    "                #\"pmn_28pt_111\" : pmn_28pt_111, \n",
    "                \"pmn_36pt_001\" : pmn_36pt_001, \n",
    "                #\"pmn_36pt_111\" : pmn_36pt_111, \n",
    "                #\"pmn_Otherside\" : pmn_Otherside, \n",
    "                \"pmn_pt_tetra1\" : pmn_pt_tetra1}\n",
    "\n",
    "allRaw=matextract(allRaw)"
   ]
  },
  {
   "cell_type": "markdown",
   "metadata": {},
   "source": [
    "# Accessing data"
   ]
  },
  {
   "cell_type": "code",
   "execution_count": null,
   "metadata": {},
   "outputs": [],
   "source": [
    "plt.plot(allRaw['pmn_02_2017']['Pulse4']['Amplitude'][230,:])\n",
    "plt.show()"
   ]
  }
 ],
 "metadata": {
  "kernelspec": {
   "display_name": "Python 3",
   "language": "python",
   "name": "python3"
  },
  "language_info": {
   "codemirror_mode": {
    "name": "ipython",
    "version": 3
   },
   "file_extension": ".py",
   "mimetype": "text/x-python",
   "name": "python",
   "nbconvert_exporter": "python",
   "pygments_lexer": "ipython3",
   "version": "3.6.4"
  }
 },
 "nbformat": 4,
 "nbformat_minor": 2
}
